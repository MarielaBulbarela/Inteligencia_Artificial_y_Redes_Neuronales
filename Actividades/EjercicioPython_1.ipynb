{
  "nbformat": 4,
  "nbformat_minor": 0,
  "metadata": {
    "colab": {
      "provenance": [],
      "authorship_tag": "ABX9TyMWgf8N3veb4vgS6ENzjiV1"
    },
    "kernelspec": {
      "name": "python3",
      "display_name": "Python 3"
    },
    "language_info": {
      "name": "python"
    }
  },
  "cells": [
    {
      "cell_type": "markdown",
      "source": [
        "MARIELA BULBARELA VAZQUEZ 2109277 CLASE:N1\n",
        "#ACTIVIDAD 2: Diseño de algoritmos en Python\n",
        "EJERCICIO 1\n",
        "\n",
        "Desarrolla un algoritmo que le pida al usuario por su nombre y que lo salude con su nombre, excepto si se llama “Ana”, “Juan”, y “Pedro”."
      ],
      "metadata": {
        "id": "fLQkhq4FdF89"
      }
    },
    {
      "cell_type": "code",
      "source": [
        "name = input(\"Por favor, ingresa tu nombre:\")\n",
        "if name in [\"ana\",\"juan\",\"pedro\"]:\n",
        "    print(\"EQUIVOCADO\")\n",
        "else:\n",
        "    print(\"Hola, Bienvenid@ \" + name)"
      ],
      "metadata": {
        "colab": {
          "base_uri": "https://localhost:8080/"
        },
        "id": "EMYT9moEeW4s",
        "outputId": "7401906b-61e9-4633-ae52-e3bddb58bc15"
      },
      "execution_count": 6,
      "outputs": [
        {
          "output_type": "stream",
          "name": "stdout",
          "text": [
            "Por favor, ingresa tu nombre:mariela\n",
            "Hola, Bienvenid@ mariela\n"
          ]
        }
      ]
    },
    {
      "cell_type": "markdown",
      "source": [
        "EJERCICIO 2\n",
        "\n",
        "Desarrolla un algoritmo que por medio de una función, le pida al usuario una lista de N elementos y como resultado invierta el sentido de la lista."
      ],
      "metadata": {
        "id": "QPTKmv9iflWM"
      }
    },
    {
      "cell_type": "code",
      "source": [
        "number = int(input(\"Ingrese el número de elementos de la lista: \"))\n",
        "lista = []\n",
        "for i in range(number):\n",
        "    elemento = input(\"Ingrese el elemento {}: \".format(i+1))\n",
        "    lista.append(elemento)\n",
        "listainv = lista[::-1]\n",
        "print(\"La lista invertida es:\", listainv)\n"
      ],
      "metadata": {
        "colab": {
          "base_uri": "https://localhost:8080/"
        },
        "id": "0xF572l-iDXp",
        "outputId": "b5f41049-db72-4959-ce80-d2bd1299962f"
      },
      "execution_count": 9,
      "outputs": [
        {
          "output_type": "stream",
          "name": "stdout",
          "text": [
            "Ingrese el número de elementos de la lista: 5\n",
            "Ingrese el elemento 1: mesa\n",
            "Ingrese el elemento 2: flores\n",
            "Ingrese el elemento 3: celular\n",
            "Ingrese el elemento 4: silla\n",
            "Ingrese el elemento 5: mueble\n",
            "La lista invertida es: ['mueble', 'silla', 'celular', 'flores', 'mesa']\n"
          ]
        }
      ]
    },
    {
      "cell_type": "markdown",
      "source": [
        "EJERCICIO 3\n",
        "\n",
        "Desarrolla un algoritmo que le pregunte al usuario cuántos números de la serie de Fibonacci quiere generar y que al final los imprima."
      ],
      "metadata": {
        "id": "oZkiyfwIkyPf"
      }
    },
    {
      "cell_type": "code",
      "source": [
        "number = int(input(\"¿Cuántos números de la serie de Fibonacci quieres generar? \"))\n",
        "fibonacci = [0, 1]\n",
        "for i in range(2, number):\n",
        "  fibonacci.append(fibonacci[-1] + fibonacci[-2])\n",
        "print(\"Los primeros {} números de la serie de Fibonacci son:\".format(number), fibonacci)"
      ],
      "metadata": {
        "colab": {
          "base_uri": "https://localhost:8080/"
        },
        "id": "le-QxWiAk40l",
        "outputId": "4c5693a3-57d6-4799-d1a7-b11023d68e3c"
      },
      "execution_count": 12,
      "outputs": [
        {
          "output_type": "stream",
          "name": "stdout",
          "text": [
            "¿Cuántos números de la serie de Fibonacci quieres generar? 5\n",
            "Los primeros 5 números de la serie de Fibonacci son: [0, 1, 1, 2, 3]\n"
          ]
        }
      ]
    },
    {
      "cell_type": "markdown",
      "source": [
        "EJERCICIO 4\n",
        "\n",
        "Juego de adivinar el número: Crea un programa que genere un número aleatorio entre 1 y 100, y luego le pida al usuario que adivine el número. El programa debe proporcionar pistas al usuario si el número es mayor o menor que el número objetivo, y seguir solicitando un nuevo intento hasta que el usuario adivine correctamente."
      ],
      "metadata": {
        "id": "mDv-Bp2BmAmX"
      }
    },
    {
      "cell_type": "code",
      "source": [
        "import random\n",
        "numero_aleatorio = random.randint(1, 100)\n",
        "intentos = 0\n",
        "while True:\n",
        "    intento = int(input(\"Intenta adivinar el número: \"))\n",
        "    if intento == numero_aleatorio:\n",
        "        print(\"Felicidades, adivinaste.\")\n",
        "        break\n",
        "    elif intento < numero_aleatorio:\n",
        "        print(\"El número es mayor.\")\n",
        "    else:\n",
        "        print(\"El número es menor.\")"
      ],
      "metadata": {
        "colab": {
          "base_uri": "https://localhost:8080/"
        },
        "id": "uZdBRx2kmIun",
        "outputId": "f3e48c5c-973d-4b4d-e9c0-589ba702df9c"
      },
      "execution_count": 16,
      "outputs": [
        {
          "output_type": "stream",
          "name": "stdout",
          "text": [
            "Intenta adivinar el número: 10\n",
            "El número es menor.\n",
            "Intenta adivinar el número: 5\n",
            "El número es menor.\n",
            "Intenta adivinar el número: 3\n",
            "Felicidades, adivinaste.\n"
          ]
        }
      ]
    },
    {
      "cell_type": "markdown",
      "source": [
        "EJERCICIO 5\n",
        "\n",
        "Ejercicio de cálculo de números primos en un rango dado: Escribe un programa que solicite al usuario un rango de números y muestre todos los números primos dentro de ese rango."
      ],
      "metadata": {
        "id": "OEqfPyy5njQb"
      }
    },
    {
      "cell_type": "code",
      "source": [
        "def numero_primo(numero):\n",
        "    if numero <= 1:\n",
        "        return False\n",
        "    for i in range(2, numero):\n",
        "        if numero % i == 0:\n",
        "            return False\n",
        "    return True\n",
        "x = int(input(\"Ingrese el número inicial del rango: \"))\n",
        "y = int(input(\"Ingrese el número final del rango: \"))\n",
        "\n",
        "print(\"Los numeros primos son\")\n",
        "for numero in range(x, y + 1):\n",
        "    if numero_primo(numero):\n",
        "        print(numero)"
      ],
      "metadata": {
        "colab": {
          "base_uri": "https://localhost:8080/"
        },
        "id": "IVgjlddjnk_p",
        "outputId": "5b61529b-bdfe-4e2e-b8d3-7e7f42c900c9"
      },
      "execution_count": 18,
      "outputs": [
        {
          "output_type": "stream",
          "name": "stdout",
          "text": [
            "Ingrese el número inicial del rango: 25\n",
            "Ingrese el número final del rango: 50\n",
            "Los numeros primos son\n",
            "29\n",
            "31\n",
            "37\n",
            "41\n",
            "43\n",
            "47\n"
          ]
        }
      ]
    },
    {
      "cell_type": "markdown",
      "source": [
        "EJERCICIO 6\n",
        "\n",
        "Ejercicio de implementación de una calculadora básica utilizando funciones: Escribe un programa que solicite al usuario dos números y realice operaciones básicas como suma, resta, multiplicación y división utilizando funciones separadas para cada operación."
      ],
      "metadata": {
        "id": "dSUCM8PPog7r"
      }
    },
    {
      "cell_type": "code",
      "source": [
        "def suma(x, y):\n",
        "    return x + y\n",
        "def resta(x, y):\n",
        "    return x - y\n",
        "def multiplicacion(x, y):\n",
        "    return x * y\n",
        "def division(x, y):\n",
        "    if y == 0:\n",
        "        return \"No se puede dividir entre cero\"\n",
        "    else:\n",
        "        return x / y\n",
        "n1 = float(input(\"Ingrese el primer número: \"))\n",
        "n2 = float(input(\"Ingrese el segundo número: \"))\n",
        "print(\"Suma:\", suma(n1, n2))\n",
        "print(\"Resta:\", resta(n1, n2))\n",
        "print(\"Multiplicación:\", multiplicacion(n1, n2))\n",
        "print(\"División:\", division(n1, n2))"
      ],
      "metadata": {
        "colab": {
          "base_uri": "https://localhost:8080/"
        },
        "id": "My66ZMFWok3s",
        "outputId": "f2b55f95-6298-464d-8e8e-3a77a034aa97"
      },
      "execution_count": 20,
      "outputs": [
        {
          "output_type": "stream",
          "name": "stdout",
          "text": [
            "Ingrese el primer número: 345\n",
            "Ingrese el segundo número: 66\n",
            "Suma: 411.0\n",
            "Resta: 279.0\n",
            "Multiplicación: 22770.0\n",
            "División: 5.2272727272727275\n"
          ]
        }
      ]
    }
  ]
}